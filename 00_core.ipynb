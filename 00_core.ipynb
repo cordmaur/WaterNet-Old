{
 "cells": [
  {
   "cell_type": "code",
   "execution_count": null,
   "metadata": {},
   "outputs": [
    {
     "name": "stdout",
     "output_type": "stream",
     "text": [
      "Cells will be exported to WaterNet.core,\n",
      "unless a different module is specified after an export flag: `%nbdev_export special.module`\n"
     ]
    }
   ],
   "source": [
    "%load_ext autoreload\n",
    "%autoreload 2\n",
    "\n",
    "from nbdev import *\n",
    "%nbdev_default_export core"
   ]
  },
  {
   "cell_type": "markdown",
   "metadata": {},
   "source": [
    "# Core Module\n",
    "\n",
    "> Low-level deep learning functions for image segmentation"
   ]
  },
  {
   "cell_type": "code",
   "execution_count": null,
   "metadata": {},
   "outputs": [],
   "source": [
    "%nbdev_hide\n",
    "from nbdev.showdoc import *"
   ]
  },
  {
   "cell_type": "code",
   "execution_count": null,
   "metadata": {},
   "outputs": [],
   "source": [
    "%nbdev_export\n",
    "def say_hello(to):\n",
    "    \"Say hello to somebody\"\n",
    "    return f'Hello {to}'"
   ]
  },
  {
   "cell_type": "code",
   "execution_count": null,
   "metadata": {},
   "outputs": [
    {
     "data": {
      "text/plain": [
       "'Hello Maurício'"
      ]
     },
     "execution_count": null,
     "metadata": {},
     "output_type": "execute_result"
    }
   ],
   "source": [
    "say_hello('Maurício')"
   ]
  },
  {
   "cell_type": "code",
   "execution_count": null,
   "metadata": {},
   "outputs": [],
   "source": [
    "from IPython.display import display,SVG"
   ]
  },
  {
   "cell_type": "code",
   "execution_count": null,
   "metadata": {},
   "outputs": [
    {
     "data": {
      "image/svg+xml": [
       "<svg height=\"100\"><circle cx=\"50\" cy=\"50\" r=\"40\"/></svg>"
      ],
      "text/plain": [
       "<IPython.core.display.SVG object>"
      ]
     },
     "metadata": {},
     "output_type": "display_data"
    }
   ],
   "source": [
    "display(SVG('<svg height=\"100\"><circle cx=\"50\" cy=\"50\" r=\"40\"/></svg>'))"
   ]
  },
  {
   "cell_type": "code",
   "execution_count": null,
   "metadata": {},
   "outputs": [],
   "source": [
    "import sys"
   ]
  },
  {
   "cell_type": "code",
   "execution_count": null,
   "metadata": {},
   "outputs": [
    {
     "name": "stdout",
     "output_type": "stream",
     "text": [
      "D:\\Projects\\WaterNet\n",
      "D:\\Programs\\anaconda\\envs\\fastai2_v3\\python37.zip\n",
      "D:\\Programs\\anaconda\\envs\\fastai2_v3\\DLLs\n",
      "D:\\Programs\\anaconda\\envs\\fastai2_v3\\lib\n",
      "D:\\Programs\\anaconda\\envs\\fastai2_v3\n",
      "\n",
      "C:\\Users\\Mauricio Cordeiro\\AppData\\Roaming\\Python\\Python37\\site-packages\n",
      "C:\\Users\\Mauricio Cordeiro\\AppData\\Roaming\\Python\\Python37\\site-packages\\maskmsgen-1.1.0-py3.7.egg\n",
      "C:\\Users\\Mauricio Cordeiro\\AppData\\Roaming\\Python\\Python37\\site-packages\\matplotlib-3.2.0rc1-py3.7-win-amd64.egg\n",
      "C:\\Users\\Mauricio Cordeiro\\AppData\\Roaming\\Python\\Python37\\site-packages\\termcolor-1.1.0-py3.7.egg\n",
      "C:\\Users\\Mauricio Cordeiro\\AppData\\Roaming\\Python\\Python37\\site-packages\\colorama-0.4.1-py3.7.egg\n",
      "C:\\Users\\Mauricio Cordeiro\\AppData\\Roaming\\Python\\Python37\\site-packages\\easygui-0.98.1-py3.7.egg\n",
      "D:\\Programs\\anaconda\\envs\\fastai2_v3\\lib\\site-packages\n",
      "d:\\projects\\nbdev\n",
      "D:\\Programs\\anaconda\\envs\\fastai2_v3\\lib\\site-packages\\win32\n",
      "D:\\Programs\\anaconda\\envs\\fastai2_v3\\lib\\site-packages\\win32\\lib\n",
      "D:\\Programs\\anaconda\\envs\\fastai2_v3\\lib\\site-packages\\Pythonwin\n",
      "D:\\Programs\\anaconda\\envs\\fastai2_v3\\lib\\site-packages\\IPython\\extensions\n",
      "C:\\Users\\Mauricio Cordeiro\\.ipython\n"
     ]
    }
   ],
   "source": [
    "for p in sys.path:\n",
    "    print(p)"
   ]
  },
  {
   "cell_type": "code",
   "execution_count": null,
   "metadata": {},
   "outputs": [
    {
     "name": "stdout",
     "output_type": "stream",
     "text": [
      "Converted 00_core.ipynb.\n",
      "Converted index.ipynb.\n"
     ]
    }
   ],
   "source": [
    "from nbdev.export import *\n",
    "notebook2script()"
   ]
  },
  {
   "cell_type": "code",
   "execution_count": null,
   "metadata": {},
   "outputs": [],
   "source": [
    "from nbdev.cli import nbdev_build_docs"
   ]
  },
  {
   "cell_type": "code",
   "execution_count": null,
   "metadata": {},
   "outputs": [
    {
     "name": "stdout",
     "output_type": "stream",
     "text": [
      "converting D:\\Projects\\WaterNet\\index.ipynb to README.md\n"
     ]
    }
   ],
   "source": [
    "nbdev_build_docs(force_all=True)"
   ]
  },
  {
   "cell_type": "code",
   "execution_count": null,
   "metadata": {},
   "outputs": [],
   "source": [
    "# teste ao final"
   ]
  },
  {
   "cell_type": "code",
   "execution_count": null,
   "metadata": {},
   "outputs": [],
   "source": []
  }
 ],
 "metadata": {
  "kernelspec": {
   "display_name": "Python 3",
   "language": "python",
   "name": "python3"
  }
 },
 "nbformat": 4,
 "nbformat_minor": 4
}
